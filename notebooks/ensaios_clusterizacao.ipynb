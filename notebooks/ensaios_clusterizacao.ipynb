{
 "cells": [
  {
   "cell_type": "markdown",
   "metadata": {},
   "source": [
    "# Clusterização"
   ]
  },
  {
   "cell_type": "markdown",
   "metadata": {},
   "source": [
    "## Algoritmos: K-Means e Affinity Propagation\n",
    "\n",
    "## Métricas de performance: Silhouette Score"
   ]
  },
  {
   "cell_type": "markdown",
   "metadata": {},
   "source": [
    "# -----------------------------------------------------"
   ]
  },
  {
   "cell_type": "markdown",
   "metadata": {},
   "source": [
    "## K-Means"
   ]
  },
  {
   "cell_type": "markdown",
   "metadata": {},
   "source": [
    "### Imports"
   ]
  },
  {
   "cell_type": "code",
   "execution_count": 1,
   "metadata": {},
   "outputs": [],
   "source": [
    "import pandas as pd\n",
    "import numpy as np\n",
    "\n",
    "from sklearn.cluster import KMeans\n",
    "from sklearn.metrics import silhouette_score"
   ]
  },
  {
   "cell_type": "code",
   "execution_count": 2,
   "metadata": {},
   "outputs": [],
   "source": [
    "x_train = pd.read_csv('../../dataset/Clusterizacao/X_dataset.csv')"
   ]
  },
  {
   "cell_type": "code",
   "execution_count": 3,
   "metadata": {},
   "outputs": [
    {
     "name": "stderr",
     "output_type": "stream",
     "text": [
      "c:\\Users\\lopes\\anaconda3\\Lib\\site-packages\\sklearn\\cluster\\_kmeans.py:1436: UserWarning: KMeans is known to have a memory leak on Windows with MKL, when there are less chunks than available threads. You can avoid it by setting the environment variable OMP_NUM_THREADS=1.\n",
      "  warnings.warn(\n",
      "c:\\Users\\lopes\\anaconda3\\Lib\\site-packages\\sklearn\\cluster\\_kmeans.py:1436: UserWarning: KMeans is known to have a memory leak on Windows with MKL, when there are less chunks than available threads. You can avoid it by setting the environment variable OMP_NUM_THREADS=1.\n",
      "  warnings.warn(\n",
      "c:\\Users\\lopes\\anaconda3\\Lib\\site-packages\\sklearn\\cluster\\_kmeans.py:1436: UserWarning: KMeans is known to have a memory leak on Windows with MKL, when there are less chunks than available threads. You can avoid it by setting the environment variable OMP_NUM_THREADS=1.\n",
      "  warnings.warn(\n",
      "c:\\Users\\lopes\\anaconda3\\Lib\\site-packages\\sklearn\\cluster\\_kmeans.py:1436: UserWarning: KMeans is known to have a memory leak on Windows with MKL, when there are less chunks than available threads. You can avoid it by setting the environment variable OMP_NUM_THREADS=1.\n",
      "  warnings.warn(\n",
      "c:\\Users\\lopes\\anaconda3\\Lib\\site-packages\\sklearn\\cluster\\_kmeans.py:1436: UserWarning: KMeans is known to have a memory leak on Windows with MKL, when there are less chunks than available threads. You can avoid it by setting the environment variable OMP_NUM_THREADS=1.\n",
      "  warnings.warn(\n",
      "c:\\Users\\lopes\\anaconda3\\Lib\\site-packages\\sklearn\\cluster\\_kmeans.py:1436: UserWarning: KMeans is known to have a memory leak on Windows with MKL, when there are less chunks than available threads. You can avoid it by setting the environment variable OMP_NUM_THREADS=1.\n",
      "  warnings.warn(\n",
      "c:\\Users\\lopes\\anaconda3\\Lib\\site-packages\\sklearn\\cluster\\_kmeans.py:1436: UserWarning: KMeans is known to have a memory leak on Windows with MKL, when there are less chunks than available threads. You can avoid it by setting the environment variable OMP_NUM_THREADS=1.\n",
      "  warnings.warn(\n",
      "c:\\Users\\lopes\\anaconda3\\Lib\\site-packages\\sklearn\\cluster\\_kmeans.py:1436: UserWarning: KMeans is known to have a memory leak on Windows with MKL, when there are less chunks than available threads. You can avoid it by setting the environment variable OMP_NUM_THREADS=1.\n",
      "  warnings.warn(\n",
      "c:\\Users\\lopes\\anaconda3\\Lib\\site-packages\\sklearn\\cluster\\_kmeans.py:1436: UserWarning: KMeans is known to have a memory leak on Windows with MKL, when there are less chunks than available threads. You can avoid it by setting the environment variable OMP_NUM_THREADS=1.\n",
      "  warnings.warn(\n"
     ]
    },
    {
     "name": "stdout",
     "output_type": "stream",
     "text": [
      "Melhor K (dados de treino): 3\n",
      "Melhor Silhouette Score (dados de treino): 0.23295918228054466\n"
     ]
    }
   ],
   "source": [
    "#Busca do melhor K\n",
    "\n",
    "# Lista de valores de K para testar\n",
    "k_values = range(2, 11)  # Testar de 2 a 10 clusters\n",
    "best_k_train = None\n",
    "best_ss_score_train = -1\n",
    "\n",
    "# Loop para encontrar o melhor K baseado no Silhouette Score\n",
    "for k in k_values:\n",
    "    kmeans = KMeans(n_clusters=k, random_state=42, n_init=10)\n",
    "    kmeans.fit(x_train)  # Ajustar aos dados de treino\n",
    "    \n",
    "    # Calcular o Silhouette Score\n",
    "    ss_score = silhouette_score(x_train, kmeans.labels_)\n",
    "    \n",
    "    # Verificar se o score é o melhor até agora\n",
    "    if ss_score > best_ss_score_train:\n",
    "        best_ss_score_train = ss_score\n",
    "        best_k = k\n",
    "\n",
    "# Exibir os resultados\n",
    "print(f\"Melhor K (dados de treino): {best_k}\")\n",
    "print(f\"Melhor Silhouette Score (dados de treino): {best_ss_score_train}\")\n"
   ]
  },
  {
   "cell_type": "code",
   "execution_count": 4,
   "metadata": {},
   "outputs": [
    {
     "name": "stderr",
     "output_type": "stream",
     "text": [
      "c:\\Users\\lopes\\anaconda3\\Lib\\site-packages\\sklearn\\cluster\\_kmeans.py:1412: FutureWarning: The default value of `n_init` will change from 10 to 'auto' in 1.4. Set the value of `n_init` explicitly to suppress the warning\n",
      "  super()._check_params_vs_input(X, default_n_init=10)\n",
      "c:\\Users\\lopes\\anaconda3\\Lib\\site-packages\\sklearn\\cluster\\_kmeans.py:1436: UserWarning: KMeans is known to have a memory leak on Windows with MKL, when there are less chunks than available threads. You can avoid it by setting the environment variable OMP_NUM_THREADS=1.\n",
      "  warnings.warn(\n"
     ]
    },
    {
     "name": "stdout",
     "output_type": "stream",
     "text": [
      "Silhouette Score: 0.23295918228054466\n"
     ]
    }
   ],
   "source": [
    "kmeans = KMeans(n_clusters=best_k, random_state=42)\n",
    "cluster_labels = kmeans.fit_predict(x_train)\n",
    "\n",
    "# Calcular silhouette score\n",
    "ss_kmeans_clusters = silhouette_score(x_train, cluster_labels)\n",
    "\n",
    "print(f\"Silhouette Score: {ss_kmeans_clusters}\")"
   ]
  },
  {
   "cell_type": "markdown",
   "metadata": {},
   "source": [
    "## Affinity Propagation"
   ]
  },
  {
   "cell_type": "markdown",
   "metadata": {},
   "source": [
    "###  Imports"
   ]
  },
  {
   "cell_type": "code",
   "execution_count": 5,
   "metadata": {},
   "outputs": [],
   "source": [
    "from matplotlib import pyplot as plt\n",
    "from sklearn import datasets as dt\n",
    "from sklearn.cluster import AffinityPropagation\n",
    "\n",
    "import numpy as np"
   ]
  },
  {
   "cell_type": "code",
   "execution_count": 6,
   "metadata": {},
   "outputs": [
    {
     "name": "stdout",
     "output_type": "stream",
     "text": [
      "O melhor ss: 0.20365750456597356\n",
      "O melhor preference: -47\n"
     ]
    },
    {
     "data": {
      "text/plain": [
       "<Figure size 640x480 with 0 Axes>"
      ]
     },
     "metadata": {},
     "output_type": "display_data"
    }
   ],
   "source": [
    "# testing parameter\n",
    "p = np.arange( -1, -61, -1 )\n",
    "ss_list = []\n",
    "fig = plt.figure()\n",
    "ss1=-1\n",
    "pref = 0\n",
    "\n",
    "# Testando diferentes valores de 'preference'\n",
    "for i in range(len(p)):\n",
    "    # Definir o modelo\n",
    "    model = AffinityPropagation(preference=p[i])\n",
    "    \n",
    "    # Treinamento do modelo\n",
    "    model.fit(x_train)\n",
    "    \n",
    "    # Obter os rótulos de clustering\n",
    "    labels = model.labels_\n",
    "\n",
    "    # Avaliar a performance\n",
    "    ss = silhouette_score(x_train, labels)\n",
    "    \n",
    "    # Armazenar o melhor silhouette score e o respectivo preference\n",
    "    if ss > ss1:\n",
    "        ss1 = ss\n",
    "        pref = p[i]\n",
    "        best_n_clusters = len(set(labels))\n",
    "\n",
    "    # Armazenar o silhouette score para visualização futura\n",
    "    ss_list.append(ss)\n",
    "\n",
    "\n",
    "print('O melhor ss:', ss1)\n",
    "print('O melhor preference:', pref)\n",
    "    "
   ]
  },
  {
   "cell_type": "code",
   "execution_count": 7,
   "metadata": {},
   "outputs": [],
   "source": [
    "model = AffinityPropagation(preference=-47)\n",
    "model.fit( x_train )\n",
    "# clustering data\n",
    "labels = model.predict( x_train )"
   ]
  },
  {
   "cell_type": "code",
   "execution_count": 8,
   "metadata": {},
   "outputs": [
    {
     "name": "stdout",
     "output_type": "stream",
     "text": [
      "Silhouette Score: 0.20365750456597356\n"
     ]
    }
   ],
   "source": [
    "# Calcular silhouette score\n",
    "ss_affinity_propagation_clusters = silhouette_score(x_train,labels)\n",
    "print(f\"Silhouette Score: {ss_affinity_propagation_clusters}\")"
   ]
  },
  {
   "cell_type": "markdown",
   "metadata": {},
   "source": [
    "# -----------------------------------------------------"
   ]
  },
  {
   "cell_type": "markdown",
   "metadata": {},
   "source": [
    "# Tabela"
   ]
  },
  {
   "cell_type": "code",
   "execution_count": 9,
   "metadata": {},
   "outputs": [],
   "source": [
    "import pandas as pd"
   ]
  },
  {
   "cell_type": "code",
   "execution_count": 10,
   "metadata": {},
   "outputs": [
    {
     "name": "stdout",
     "output_type": "stream",
     "text": [
      "              Algoritmo  Número de clusters  Avarege Silhouette Score\n",
      "0               K-Means                   3                  0.232959\n",
      "1  Affinity Propagation                   7                  0.203658\n"
     ]
    }
   ],
   "source": [
    "#Tabela regressão sobre os dados de treinamento\n",
    "dados = {\n",
    "    \"Algoritmo\": [\"K-Means\",\"Affinity Propagation\"],\n",
    "    \"Número de clusters\": [best_k,best_n_clusters],\n",
    "    \"Avarege Silhouette Score\": [ss_kmeans_clusters,ss_affinity_propagation_clusters]\n",
    "}\n",
    "\n",
    "# Criar o DataFrame (a tabela)\n",
    "tabela = pd.DataFrame(dados)\n",
    "\n",
    "# Exibir a tabela\n",
    "print(tabela)"
   ]
  }
 ],
 "metadata": {
  "kernelspec": {
   "display_name": "base",
   "language": "python",
   "name": "python3"
  },
  "language_info": {
   "codemirror_mode": {
    "name": "ipython",
    "version": 3
   },
   "file_extension": ".py",
   "mimetype": "text/x-python",
   "name": "python",
   "nbconvert_exporter": "python",
   "pygments_lexer": "ipython3",
   "version": "3.11.5"
  }
 },
 "nbformat": 4,
 "nbformat_minor": 2
}
