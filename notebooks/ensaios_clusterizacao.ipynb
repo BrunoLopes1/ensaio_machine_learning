{
 "cells": [
  {
   "cell_type": "markdown",
   "metadata": {},
   "source": [
    "# Clusterização"
   ]
  },
  {
   "cell_type": "markdown",
   "metadata": {},
   "source": [
    "## Algoritmos: K-Means e Affinity Propagation\n",
    "\n",
    "## Métricas de performance: Silhouette Score"
   ]
  },
  {
   "cell_type": "markdown",
   "metadata": {},
   "source": [
    "# -----------------------------------------------------"
   ]
  },
  {
   "cell_type": "markdown",
   "metadata": {},
   "source": [
    "## K-Means"
   ]
  },
  {
   "cell_type": "markdown",
   "metadata": {},
   "source": [
    "### Imports"
   ]
  },
  {
   "cell_type": "code",
   "execution_count": null,
   "metadata": {},
   "outputs": [],
   "source": [
    "import pandas as pd\n",
    "import numpy as np\n",
    "\n",
    "from sklearn.cluster import KMeans\n",
    "from sklearn.metrics import silhouette_score"
   ]
  },
  {
   "cell_type": "code",
   "execution_count": null,
   "metadata": {},
   "outputs": [],
   "source": [
    "x_train = pd.read_csv('../../dataset/Clusterizacao/X_dataset.csv')"
   ]
  },
  {
   "cell_type": "code",
   "execution_count": null,
   "metadata": {},
   "outputs": [],
   "source": [
    "#Busca do melhor K\n",
    "\n",
    "# Lista de valores de K para testar\n",
    "k_values = range(2, 11)  # Testar de 2 a 10 clusters\n",
    "best_k_train = None\n",
    "best_ss_score_train = -1\n",
    "\n",
    "# Loop para encontrar o melhor K baseado no Silhouette Score\n",
    "for k in k_values:\n",
    "    kmeans = KMeans(n_clusters=k, random_state=42, n_init=10)\n",
    "    kmeans.fit(x_train)  # Ajustar aos dados de treino\n",
    "    \n",
    "    # Calcular o Silhouette Score\n",
    "    ss_score = silhouette_score(x_train, kmeans.labels_)\n",
    "    \n",
    "    # Verificar se o score é o melhor até agora\n",
    "    if ss_score > best_ss_score_train:\n",
    "        best_ss_score_train = ss_score\n",
    "        best_k = k\n",
    "\n",
    "# Exibir os resultados\n",
    "print(f\"Melhor K (dados de treino): {best_k}\")\n",
    "print(f\"Melhor Silhouette Score (dados de treino): {best_ss_score_train}\")\n"
   ]
  },
  {
   "cell_type": "code",
   "execution_count": null,
   "metadata": {},
   "outputs": [],
   "source": [
    "kmeans = KMeans(n_clusters=best_k, random_state=42)\n",
    "cluster_labels = kmeans.fit_predict(x_train)\n",
    "\n",
    "# Calcular silhouette score\n",
    "ss_kmeans_clusters = silhouette_score(x_train, cluster_labels)\n",
    "\n",
    "print(f\"Silhouette Score: {ss_kmeans_clusters}\")"
   ]
  },
  {
   "cell_type": "markdown",
   "metadata": {},
   "source": [
    "## Affinity Propagation"
   ]
  },
  {
   "cell_type": "markdown",
   "metadata": {},
   "source": [
    "###  Imports"
   ]
  },
  {
   "cell_type": "code",
   "execution_count": null,
   "metadata": {},
   "outputs": [],
   "source": [
    "from matplotlib import pyplot as plt\n",
    "from sklearn import datasets as dt\n",
    "from sklearn.cluster import AffinityPropagation\n",
    "\n",
    "import numpy as np"
   ]
  },
  {
   "cell_type": "code",
   "execution_count": null,
   "metadata": {},
   "outputs": [],
   "source": [
    "# testing parameter\n",
    "p = np.arange( -1, -61, -1 )\n",
    "ss_list = []\n",
    "fig = plt.figure()\n",
    "ss1=-1\n",
    "pref = 0\n",
    "\n",
    "# Testando diferentes valores de 'preference'\n",
    "for i in range(len(p)):\n",
    "    # Definir o modelo\n",
    "    model = AffinityPropagation(preference=p[i])\n",
    "    \n",
    "    # Treinamento do modelo\n",
    "    model.fit(x_train)\n",
    "    \n",
    "    # Obter os rótulos de clustering\n",
    "    labels = model.labels_\n",
    "\n",
    "    # Avaliar a performance\n",
    "    ss = silhouette_score(x_train, labels)\n",
    "    \n",
    "    # Armazenar o melhor silhouette score e o respectivo preference\n",
    "    if ss > ss1:\n",
    "        ss1 = ss\n",
    "        pref = p[i]\n",
    "        best_n_clusters = len(set(labels))\n",
    "\n",
    "    # Armazenar o silhouette score para visualização futura\n",
    "    ss_list.append(ss)\n",
    "\n",
    "\n",
    "print('O melhor ss:', ss1)\n",
    "print('O melhor preference:', pref)\n",
    "    "
   ]
  },
  {
   "cell_type": "code",
   "execution_count": null,
   "metadata": {},
   "outputs": [],
   "source": [
    "model = AffinityPropagation(preference=-47)\n",
    "model.fit( x_train )\n",
    "# clustering data\n",
    "labels = model.predict( x_train )"
   ]
  },
  {
   "cell_type": "code",
   "execution_count": null,
   "metadata": {},
   "outputs": [],
   "source": [
    "# Calcular silhouette score\n",
    "ss_affinity_propagation_clusters = silhouette_score(x_train,labels)\n",
    "print(f\"Silhouette Score: {ss_affinity_propagation_clusters}\")"
   ]
  },
  {
   "cell_type": "markdown",
   "metadata": {},
   "source": [
    "# -----------------------------------------------------"
   ]
  },
  {
   "cell_type": "markdown",
   "metadata": {},
   "source": [
    "# Tabela"
   ]
  },
  {
   "cell_type": "code",
   "execution_count": null,
   "metadata": {},
   "outputs": [],
   "source": [
    "import pandas as pd"
   ]
  },
  {
   "cell_type": "code",
   "execution_count": null,
   "metadata": {},
   "outputs": [],
   "source": [
    "#Tabela regressão sobre os dados de treinamento\n",
    "dados = {\n",
    "    \"Algoritmo\": [\"K-Means\",\"Affinity Propagation\"],\n",
    "    \"Número de clusters\": [best_k,best_n_clusters],\n",
    "    \"Avarege Silhouette Score\": [ss_kmeans_clusters,ss_affinity_propagation_clusters]\n",
    "}\n",
    "\n",
    "# Criar o DataFrame (a tabela)\n",
    "tabela = pd.DataFrame(dados)\n",
    "\n",
    "# Exibir a tabela\n",
    "print(tabela)"
   ]
  }
 ],
 "metadata": {
  "language_info": {
   "name": "python"
  }
 },
 "nbformat": 4,
 "nbformat_minor": 2
}
